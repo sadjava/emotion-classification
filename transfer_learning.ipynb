{
 "cells": [
  {
   "attachments": {},
   "cell_type": "markdown",
   "metadata": {},
   "source": [
    "# Emotion classification with fine-tuned models"
   ]
  },
  {
   "cell_type": "code",
   "execution_count": 3,
   "metadata": {},
   "outputs": [],
   "source": [
    "import torch\n",
    "import torch.nn as nn\n",
    "from torch.utils.data.dataset import Dataset\n",
    "import torchvision.transforms as T\n",
    "from torch.utils.data import DataLoader\n",
    "import torch.nn.functional as F\n",
    "from sklearn.metrics import f1_score, confusion_matrix\n",
    "\n",
    "import pandas as pd\n",
    "import numpy as np\n",
    "import matplotlib.pyplot as plt\n",
    "\n",
    "from tqdm import tqdm\n",
    "import numpy as np"
   ]
  },
  {
   "attachments": {},
   "cell_type": "markdown",
   "metadata": {},
   "source": [
    "## Load data"
   ]
  },
  {
   "cell_type": "code",
   "execution_count": 4,
   "metadata": {},
   "outputs": [],
   "source": [
    "df = pd.read_csv('./data/fer2013.csv')\n",
    "\n",
    "CLASS_LABELS  = ['Anger', 'Disgust', 'Fear', 'Happy', 'Neutral', 'Sadness', 'Surprise']\n",
    "NUM_CLASSES = len(CLASS_LABELS)\n",
    "label_dict = {i:CLASS_LABELS[i] for i in np.arange(NUM_CLASSES)}\n",
    "\n",
    "# Transform df column with pixels into a pytorch tensor\n",
    "pixels = df['pixels']\n",
    "pixels = pixels.apply(lambda x: x.split(\" \")).tolist()\n",
    "pixels = np.uint8(pixels)\n",
    "pixels = torch.Tensor(pixels)\n",
    "pixels = torch.reshape(pixels, (pixels.shape[0], 1, 48, 48))\n",
    "\n",
    "train_idx = df.index[df['Usage'] == 'Training'].tolist()\n",
    "val_idx   = df.index[df['Usage'] == 'PublicTest'].tolist()\n",
    "test_idx  = df.index[df['Usage'] == 'PrivateTest'].tolist()\n",
    "\n",
    "X_train = pixels[train_idx]\n",
    "y_train = torch.Tensor(df.iloc[train_idx]['emotion'].tolist())\n",
    "X_val = pixels[val_idx]\n",
    "y_val = torch.Tensor(df.iloc[val_idx]['emotion'].tolist())\n",
    "X_test = pixels[test_idx]\n",
    "y_test = torch.Tensor(df.iloc[test_idx]['emotion'].tolist())"
   ]
  },
  {
   "attachments": {},
   "cell_type": "markdown",
   "metadata": {},
   "source": [
    "## Create dataloaders"
   ]
  },
  {
   "cell_type": "code",
   "execution_count": 5,
   "metadata": {},
   "outputs": [],
   "source": [
    "class EmotionDataset(Dataset):\n",
    "    '''\n",
    "    Inputs:\n",
    "    - images: a [Batch size, Channels, Height, Width] tensor\n",
    "    - labels: a 1-dimensional tensor corresponding to image labels\n",
    "    - train: True if you want to apply transformations, False otherwise\n",
    "    '''\n",
    "    \n",
    "    def __init__(self, images, labels, train:bool):\n",
    "        self.images = images / 255\n",
    "        self.labels = labels\n",
    "        self.train  = train\n",
    "        \n",
    "\n",
    "    def __getitem__(self, index):\n",
    "        \n",
    "        # Load the image (as tensor)\n",
    "        img  = torch.cat((self.images[index], self.images[index], self.images[index]), 0)\n",
    "        label = self.labels[index]\n",
    "        \n",
    "        # Apply transformations\n",
    "        if self.train == True:\n",
    "            img = self.transform(img)\n",
    "\n",
    "        # Turn on gradient for image\n",
    "        img = img.detach().clone().requires_grad_(True)\n",
    "        \n",
    "        return img, label\n",
    "\n",
    "    \n",
    "    def __len__(self):\n",
    "        return len(self.images)\n",
    "    \n",
    "    \n",
    "    def transform(self, img):\n",
    "      \n",
    "        if np.random.rand() < 0.3:\n",
    "            t_horizonal_flip = T.RandomHorizontalFlip(p=1)\n",
    "            img = t_horizonal_flip(img)\n",
    "\n",
    "        if np.random.rand() < 0.3:\n",
    "            t_rotation = T.RandomRotation(degrees=(-20, 20))\n",
    "            img = t_rotation(img)\n",
    "\n",
    "        return img"
   ]
  },
  {
   "cell_type": "code",
   "execution_count": 6,
   "metadata": {},
   "outputs": [],
   "source": [
    "train_dataset = EmotionDataset(X_train, y_train, train=True)\n",
    "val_dataset   = EmotionDataset(X_val, y_val, train=False)\n",
    "\n",
    "train_dataloader = DataLoader(train_dataset, batch_size=256, shuffle=True)\n",
    "val_dataloader   = DataLoader(val_dataset  , batch_size=256, shuffle=False)"
   ]
  },
  {
   "attachments": {},
   "cell_type": "markdown",
   "metadata": {},
   "source": [
    "# Define model"
   ]
  },
  {
   "cell_type": "code",
   "execution_count": 18,
   "metadata": {},
   "outputs": [],
   "source": [
    "from torchvision import models\n",
    "from torchvision.models import ResNet18_Weights\n",
    "\n",
    "\n",
    "device = \"cuda\" if torch.cuda.is_available() else \"cpu\"\n",
    "\n",
    "model = models.resnet18(weights=ResNet18_Weights.DEFAULT)  \n",
    "num_features = model.fc.in_features\n",
    "model.fc = nn.Linear(num_features, NUM_CLASSES)\n",
    "model = model.to(device) \n",
    "criterion = nn.CrossEntropyLoss() \n",
    "optimizer = torch.optim.AdamW(model.parameters())\n",
    "scheduler = torch.optim.lr_scheduler.ExponentialLR(optimizer, gamma = 0.95)"
   ]
  },
  {
   "attachments": {},
   "cell_type": "markdown",
   "metadata": {},
   "source": [
    "## Training"
   ]
  },
  {
   "cell_type": "code",
   "execution_count": 20,
   "metadata": {},
   "outputs": [
    {
     "name": "stderr",
     "output_type": "stream",
     "text": [
      "100%|██████████| 113/113 [00:10<00:00, 10.85it/s]\n",
      "100%|██████████| 15/15 [00:00<00:00, 50.94it/s]\n"
     ]
    },
    {
     "name": "stdout",
     "output_type": "stream",
     "text": [
      "Epoch [1], train_loss: 1.2087, val_loss: 1.2940, val_acc: 0.5201\n"
     ]
    },
    {
     "name": "stderr",
     "output_type": "stream",
     "text": [
      "100%|██████████| 113/113 [00:09<00:00, 11.52it/s]\n",
      "100%|██████████| 15/15 [00:00<00:00, 57.52it/s]\n"
     ]
    },
    {
     "name": "stdout",
     "output_type": "stream",
     "text": [
      "Epoch [2], train_loss: 1.0980, val_loss: 1.2997, val_acc: 0.4925\n"
     ]
    },
    {
     "name": "stderr",
     "output_type": "stream",
     "text": [
      "100%|██████████| 113/113 [00:10<00:00, 11.15it/s]\n",
      "100%|██████████| 15/15 [00:00<00:00, 57.50it/s]\n"
     ]
    },
    {
     "name": "stdout",
     "output_type": "stream",
     "text": [
      "Epoch [3], train_loss: 1.0134, val_loss: 1.1018, val_acc: 0.5916\n"
     ]
    },
    {
     "name": "stderr",
     "output_type": "stream",
     "text": [
      "100%|██████████| 113/113 [00:10<00:00, 11.30it/s]\n",
      "100%|██████████| 15/15 [00:00<00:00, 57.80it/s]\n"
     ]
    },
    {
     "name": "stdout",
     "output_type": "stream",
     "text": [
      "Epoch [4], train_loss: 0.9601, val_loss: 1.1240, val_acc: 0.5790\n"
     ]
    },
    {
     "name": "stderr",
     "output_type": "stream",
     "text": [
      "100%|██████████| 113/113 [00:10<00:00, 10.95it/s]\n",
      "100%|██████████| 15/15 [00:00<00:00, 58.68it/s]\n"
     ]
    },
    {
     "name": "stdout",
     "output_type": "stream",
     "text": [
      "Epoch [5], train_loss: 0.8990, val_loss: 1.0737, val_acc: 0.6135\n"
     ]
    },
    {
     "name": "stderr",
     "output_type": "stream",
     "text": [
      "100%|██████████| 113/113 [00:09<00:00, 11.69it/s]\n",
      "100%|██████████| 15/15 [00:00<00:00, 57.67it/s]\n"
     ]
    },
    {
     "name": "stdout",
     "output_type": "stream",
     "text": [
      "Epoch [6], train_loss: 0.8339, val_loss: 1.1286, val_acc: 0.5884\n"
     ]
    },
    {
     "name": "stderr",
     "output_type": "stream",
     "text": [
      "100%|██████████| 113/113 [00:10<00:00, 11.30it/s]\n",
      "100%|██████████| 15/15 [00:00<00:00, 44.88it/s]\n"
     ]
    },
    {
     "name": "stdout",
     "output_type": "stream",
     "text": [
      "Epoch [7], train_loss: 0.7872, val_loss: 1.1736, val_acc: 0.5858\n"
     ]
    },
    {
     "name": "stderr",
     "output_type": "stream",
     "text": [
      "100%|██████████| 113/113 [00:10<00:00, 10.98it/s]\n",
      "100%|██████████| 15/15 [00:00<00:00, 56.37it/s]\n"
     ]
    },
    {
     "name": "stdout",
     "output_type": "stream",
     "text": [
      "Epoch [8], train_loss: 0.7303, val_loss: 1.1739, val_acc: 0.6009\n"
     ]
    },
    {
     "name": "stderr",
     "output_type": "stream",
     "text": [
      "100%|██████████| 113/113 [00:10<00:00, 11.02it/s]\n",
      "100%|██████████| 15/15 [00:00<00:00, 54.44it/s]\n"
     ]
    },
    {
     "name": "stdout",
     "output_type": "stream",
     "text": [
      "Epoch [9], train_loss: 0.6729, val_loss: 1.1005, val_acc: 0.6246\n"
     ]
    },
    {
     "name": "stderr",
     "output_type": "stream",
     "text": [
      "100%|██████████| 113/113 [00:10<00:00, 11.29it/s]\n",
      "100%|██████████| 15/15 [00:00<00:00, 54.70it/s]"
     ]
    },
    {
     "name": "stdout",
     "output_type": "stream",
     "text": [
      "Epoch [10], train_loss: 0.6217, val_loss: 1.1342, val_acc: 0.6291\n"
     ]
    },
    {
     "name": "stderr",
     "output_type": "stream",
     "text": [
      "\n"
     ]
    }
   ],
   "source": [
    "epochs = 10\n",
    "history = []\n",
    "\n",
    "for epoch in range(epochs):\n",
    "    model.train()\n",
    "    train_losses = []\n",
    "    for batch in tqdm(train_dataloader):\n",
    "        optimizer.zero_grad()\n",
    "        images, labels = batch\n",
    "        images = images\n",
    "        predictions = model.forward(images.to(device))\n",
    "        loss = criterion(predictions, labels.type(torch.LongTensor).to(device))\n",
    "        loss.backward()\n",
    "        train_losses.append(loss.item())\n",
    "        optimizer.step()\n",
    "\n",
    "    model.eval()\n",
    "    val_losses = []\n",
    "    val_accuracies = []\n",
    "    with torch.no_grad():\n",
    "        for batch in tqdm(val_dataloader):\n",
    "            images, labels = batch\n",
    "            images = images\n",
    "            predictions = model.forward(images.to(device))\n",
    "            loss = criterion(predictions, labels.type(torch.LongTensor).to(device))\n",
    "            val_losses.append(loss.item())\n",
    "            accuracy = torch.mean((torch.argmax(predictions, axis=1).cpu() == labels).float()).item()\n",
    "            val_accuracies.append(accuracy)\n",
    "    scheduler.step()\n",
    "    result = {'train_loss': torch.mean(torch.tensor(train_losses)), 'val_loss': torch.mean(torch.tensor(val_losses)), 'val_acc': torch.mean(torch.tensor(val_accuracies))}\n",
    "    history.append(result)\n",
    "    print(\"Epoch [{}], train_loss: {:.4f}, val_loss: {:.4f}, val_acc: {:.4f}\".format(\n",
    "            epoch + 1, result['train_loss'], result['val_loss'], result['val_acc']))"
   ]
  },
  {
   "cell_type": "code",
   "execution_count": 21,
   "metadata": {},
   "outputs": [
    {
     "data": {
      "image/png": "[encoded data removed]",
      "text/plain": [
       "<Figure size 640x480 with 1 Axes>"
      ]
     },
     "metadata": {},
     "output_type": "display_data"
    }
   ],
   "source": [
    "plt.plot([i['train_loss'].item() for i in history])\n",
    "plt.title(\"Train loss\")\n",
    "plt.show()"
   ]
  },
  {
   "cell_type": "code",
   "execution_count": 22,
   "metadata": {},
   "outputs": [
    {
     "data": {
      "image/png": "[encoded data removed]",
      "text/plain": [
       "<Figure size 640x480 with 1 Axes>"
      ]
     },
     "metadata": {},
     "output_type": "display_data"
    }
   ],
   "source": [
    "plt.plot([i['val_loss'].item() for i in history])\n",
    "plt.title(\"Val loss\")\n",
    "plt.show()"
   ]
  },
  {
   "cell_type": "code",
   "execution_count": 23,
   "metadata": {},
   "outputs": [
    {
     "data": {
      "image/png": "[encoded data removed]",
      "text/plain": [
       "<Figure size 640x480 with 1 Axes>"
      ]
     },
     "metadata": {},
     "output_type": "display_data"
    }
   ],
   "source": [
    "plt.plot([i['val_acc'].item() for i in history])\n",
    "plt.title(\"Val acc\")\n",
    "plt.show()"
   ]
  },
  {
   "attachments": {},
   "cell_type": "markdown",
   "metadata": {},
   "source": [
    "## Save the model"
   ]
  },
  {
   "cell_type": "code",
   "execution_count": 24,
   "metadata": {},
   "outputs": [],
   "source": [
    "torch.save(model, \"emotion-classification/model.pth\")"
   ]
  }
 ],
 "metadata": {
  "kernelspec": {
   "display_name": "Python 3",
   "language": "python",
   "name": "python3"
  },
  "language_info": {
   "codemirror_mode": {
    "name": "ipython",
    "version": 3
   },
   "file_extension": ".py",
   "mimetype": "text/x-python",
   "name": "python",
   "nbconvert_exporter": "python",
   "pygments_lexer": "ipython3",
   "version": "3.9.0"
  },
  "orig_nbformat": 4
 },
 "nbformat": 4,
 "nbformat_minor": 2
}
